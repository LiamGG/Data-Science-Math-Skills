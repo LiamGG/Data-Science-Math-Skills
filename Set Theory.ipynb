{
 "cells": [
  {
   "cell_type": "markdown",
   "metadata": {},
   "source": [
    "# Sets - Basics and Vocabulary\n",
    "\n",
    "\n",
    "\n",
    "### A set is a collection of elements\n",
    "It doesn't matter what elements are. The following are examples of sets.\n",
    "\n",
    "$A = \\{1, 2, -3, 7\\}$\n",
    "\n",
    "$E = \\{Apple, Monkey, Liam\\}$\n",
    "\n",
    "$2 \\in A$ - means **2 is an element of A**\n",
    "\n",
    "$8 \\notin A$ - means **8 is not an element of A**\n",
    "\n",
    "### Cardinality refers to the size of the set\n",
    "$|A| = 4$ - **The cardinality of A is 4**\n",
    "\n",
    "$|E| = 3$ - **The cardinality of E is 3**\n",
    "\n",
    "### Intersection -  the set of elements that are in both sets.\n",
    "$A = \\{1, 2, -3, 7\\}$\n",
    "\n",
    "$B = \\{2, 8, -3, 10\\}$\n",
    "\n",
    "$D = \\{5, 10\\}$\n",
    "\n",
    "$A \\cap B = \\{2, -3\\}$ - **The intersect of A and B is the set \\{2, -3\\}**\n",
    "\n",
    "$B \\cap D = \\{10\\}$ - **The intersect of B and D is the set \\{10\\}**\n",
    "\n",
    "$A \\cap D = \\emptyset$ - **The intersect of A and D is *the empty set.*** $|\\emptyset| = 0$\n",
    "\n",
    "$A \\cap B  = \\{x: x \\in A\\; and\\; x \\in B\\}$ - **The colon represent the conditions for x to be in the set, it must be in A and in B**. The set can be defined by conditions.\n",
    "\n",
    "### Union - the set of elements that are in either or both of the sets.\n",
    "$A \\cup B = \\{1, 2, -3, 7, 8, 10\\} = \\{x: x \\in A\\; or\\; x \\in B\\}$\n",
    "\n",
    "$A \\cup D = \\{1, 2, -3, 7, 5, 10\\} = \\{x: x \\in A\\; or\\; x \\in D\\}$\n"
   ]
  },
  {
   "cell_type": "markdown",
   "metadata": {},
   "source": [
    "# Real World Example - Medical Testing\n",
    "\n",
    "A test has just been developed for VBS (Very Bad Syndrome).\n",
    "\n",
    "X = set of people in a clinical trial testing for VBS, to determine accuracy of test.\n",
    "\n",
    "S = Sick, H = Health, P = tests Positive, N = tests Negative\n",
    "\n",
    "$S = \\{x \\in X: X\\; has\\; VBS\\}$\n",
    "\n",
    "$H = \\{x \\in X: X\\; does\\; not\\; have\\; VBS\\}$\n",
    "\n",
    "$X = S \\cup H$ - X contains everyone, whether they have VBS or not.\n",
    "\n",
    "$S \\cap H = \\emptyset$ - The intersect is empty: you either have VBS or you don't.\n",
    "\n",
    "$P = \\{x \\in X: x\\; tests\\; positive\\; for\\; VBS\\}$ - x **tests postive for VBS**. This is different that X *has* VBS.\n",
    "\n",
    "$N = \\{x \\in X: x\\; tests\\; negative\\; for\\; VBS\\}$ - x **tests negative for VBS**. This is different that X *does not have* VBS.\n",
    "\n",
    "$P \\cup N = X$\n",
    "\n",
    "$P \\cap N = \\emptyset$\n",
    "\n",
    "In an ideal world, $S = P$ and $H = N$, however this is not always the case.\n",
    "\n",
    "### True Positive  - $S \\cap P$ - You have VBS and you test positive for it.\n",
    "You are correctly identified as having VBS and canget appropriate treatment.\n",
    "### True Negative  - $H \\cap N$ - You don't have VBS and you test negative for it.\n",
    "You are correctly identified as not having VBS and do not need treatment.\n",
    "### False Negative - $S \\cap N$ - You have VBS but you test negative for it.\n",
    "You are incorrectly identified as not having VBS, and so don't get the necessary treatment at the time.\n",
    "### False Positive - $H \\cap P$ - You don't have VBS but you test positive for it.\n",
    "You are incorrectly identified as having VBS, and might get unnecessary treatment with side effects.\n",
    "\n",
    "\n",
    "## Cardinalities\n",
    "$\\frac{|S|}{|X|} =$ proportion of people in the study who do have VBS. When designing a test, you would like this to be representative of the proprotion in the population (depending on what you're trying to estimate.\n",
    "\n",
    "$\\frac{|H|}{|X|} =$ proportion of people in the study who do don't have VBS. \n",
    "\n",
    "$\\frac{|S|}{|X|} + \\frac{|H|}{|X|} = 1$\n",
    "\n",
    "### True Positive Rate = $\\frac{|S \\cap P|}{|S|}$ - Like it to be as close to 1 as possible.\n",
    "### False Positive Rate = $\\frac{|H \\cap P|}{|H|}$ - Like it to be as close to 0 as possible.\n",
    "### False Negative Rate = $\\frac{|S \\cap N|}{|S|}$ - Like it to be as close to 0 as possible.\n",
    "### True Negative Rate = $\\frac{|H \\cap N|}{|H|}$ - Like it to be as close to 1 as possible."
   ]
  },
  {
   "cell_type": "markdown",
   "metadata": {},
   "source": [
    "# Inclusion - Exclusion Principle\n",
    "\n",
    "$|A \\cup B| = |A| + |B| - |A \\cap B|$ -> The cardinality of A union B is equal to the cardinality of A + cardinality of B - cardinality of A intersect B."
   ]
  },
  {
   "cell_type": "markdown",
   "metadata": {},
   "source": [
    "# Venn Diagrams\n",
    "\n",
    "$A = \\{1, 10, 5, 2\\}$, $|A| = 4$\n",
    "\n",
    "$B = \\{5, -7, 10, 4\\}$, $|B| = 4$\n",
    "\n",
    "$C = \\{8, 11\\}$, $|C| = 2$\n",
    "\n",
    "$|A \\cap B| = 2$, $|A \\cap C| = \\emptyset$, $|B \\cap C| = \\emptyset$"
   ]
  },
  {
   "cell_type": "markdown",
   "metadata": {},
   "source": [
    "## Venn diagrams in Python\n",
    "https://towardsdatascience.com/how-to-create-and-customize-venn-diagrams-in-python-263555527305\n",
    "\n",
    "### With 2 groups"
   ]
  },
  {
   "cell_type": "code",
   "execution_count": 18,
   "metadata": {},
   "outputs": [],
   "source": [
    "%%capture\n",
    "!pip install matplotlib-venn"
   ]
  },
  {
   "cell_type": "code",
   "execution_count": 19,
   "metadata": {},
   "outputs": [],
   "source": [
    "#Import libraries\n",
    "from matplotlib_venn import venn2, venn2_circles, venn2_unweighted\n",
    "from matplotlib_venn import venn3, venn3_circles\n",
    "from matplotlib import pyplot as plt\n",
    "%matplotlib inline"
   ]
  },
  {
   "cell_type": "markdown",
   "metadata": {},
   "source": [
    "The subset parameter corresponds to the Cardinalities of \n",
    "* Ab ($|\\{x: x \\in A\\; and\\; x \\notin B\\}|$)\n",
    "* aB ($|\\{x: x \\notin A\\; and\\; x \\in B\\}|$)\n",
    "* AB ($|A \\cap B| = |\\{x: x \\in A\\; and\\; x \\in B\\}|$)"
   ]
  },
  {
   "cell_type": "code",
   "execution_count": 20,
   "metadata": {},
   "outputs": [
    {
     "data": {
      "text/plain": [
       "<matplotlib_venn._common.VennDiagram at 0x11c019750>"
      ]
     },
     "execution_count": 20,
     "metadata": {},
     "output_type": "execute_result"
    },
    {
     "data": {
      "image/png": "[encoded data removed]",
      "text/plain": [
       "<Figure size 432x288 with 1 Axes>"
      ]
     },
     "metadata": {},
     "output_type": "display_data"
    }
   ],
   "source": [
    "venn2(subsets=(2, 2, 2), set_labels=('A', 'B'), set_colors=('purple', 'skyblue'), alpha=0.6,)"
   ]
  },
  {
   "cell_type": "markdown",
   "metadata": {},
   "source": [
    "### Venn diagrams with 3 groups\n",
    "\n",
    "The subset parameter corresponds to the Cardinalities of \n",
    "* Abc ($|\\{x: x \\in A\\; and\\; x \\notin B\\; and\\; x \\notin C\\}|$)\n",
    "* aBc ($|\\{x: x \\notin A\\; and\\; x \\in B\\; and\\; x \\notin C\\}|$)\n",
    "* ABc ($|\\{x: x \\in A\\; and\\; x \\in B\\; and\\; x \\notin C\\}|$)\n",
    "* abC ($|\\{x: x \\notin A\\; and\\; x \\notin B\\; and\\; x \\in C\\}|$)\n",
    "* AbC ($|\\{x: x \\in A\\; and\\; x \\notin B\\; and\\; x \\in C\\}|$)\n",
    "* aBC ($|\\{x: x \\notin A\\; and\\; x \\in B\\; and\\; x \\in C\\}|$)\n",
    "* ABC ($|\\{x: x \\in A\\; and\\; x \\in B\\; and\\; x \\in C\\}|$)"
   ]
  },
  {
   "cell_type": "code",
   "execution_count": 21,
   "metadata": {},
   "outputs": [
    {
     "data": {
      "text/plain": [
       "<matplotlib_venn._common.VennDiagram at 0x11c056cd0>"
      ]
     },
     "execution_count": 21,
     "metadata": {},
     "output_type": "execute_result"
    },
    {
     "data": {
      "image/png": "[encoded data removed]",
      "text/plain": [
       "<Figure size 432x288 with 1 Axes>"
      ]
     },
     "metadata": {},
     "output_type": "display_data"
    }
   ],
   "source": [
    "venn3(subsets=(2, 2, 2, 2, 0, 0, 0), set_labels=('A', 'B', 'C'), alpha=0.6,)"
   ]
  },
  {
   "cell_type": "code",
   "execution_count": null,
   "metadata": {},
   "outputs": [],
   "source": []
  }
 ],
 "metadata": {
  "kernelspec": {
   "display_name": "Python 3.7.4 64-bit",
   "language": "python",
   "name": "python37464bitd12e4cb1b06a4ae49a3ff89c394ca0b4"
  },
  "language_info": {
   "codemirror_mode": {
    "name": "ipython",
    "version": 3
   },
   "file_extension": ".py",
   "mimetype": "text/x-python",
   "name": "python",
   "nbconvert_exporter": "python",
   "pygments_lexer": "ipython3",
   "version": "3.7.4"
  }
 },
 "nbformat": 4,
 "nbformat_minor": 4
}
