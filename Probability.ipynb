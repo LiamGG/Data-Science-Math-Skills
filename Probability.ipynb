{
 "cells": [
  {
   "cell_type": "markdown",
   "metadata": {},
   "source": [
    "# Probabiliy - degree of belief in a statement\n",
    "\n",
    "Statement is true -> $p = 1$\n",
    "\n",
    "Statement is false -> $p = 0$\n",
    "\n",
    "\n",
    "If statement $x =$ \"*It is raining*\", then $~x =$ \"*It is not raining*\"\n",
    "\n",
    "$p(x) + p(~x) = 1$\n",
    "\n",
    "### Probability distribution\n",
    "\n",
    "Collection of statements that are **exclusive** and **exhaustive**.\n",
    "\n",
    "**Exclusive** - no more than one statement can be true (when we have complete information).\n",
    "\n",
    "**Exhaustive** - At least one statement must be true (when we have complete information).\n",
    "\n",
    "\n",
    "$X = \\{x_1, x_2, ..., x_n\\}$\n",
    "\n",
    "$\\sum_{i}p(x_i) = 1$\n",
    "\n",
    "$P(event) = \\frac{number\\; of\\; outcomes\\; in\\; event}{number\\; of\\; possible\\; outcomes}$"
   ]
  },
  {
   "cell_type": "markdown",
   "metadata": {},
   "source": [
    "# Joint probabilities\n",
    "\n",
    "Probability that two separate events, with two different probability distributions, are true\n",
    "\n",
    "$P(A\\; and\\; B) = P(A, B) = P(B, A)$\n",
    "\n",
    "**If the distributions are independent**, knowing the outcomes of 1 does not change the probability of the other. The probabilities are multiplied:\n",
    "\n",
    "$P(x_1, y_1) = p(x_1)\\cdot p(y_1)$ - **Product Distribution**\n",
    "\n",
    "\n",
    "\n",
    "$P(x_1\\; or\\; y_1) = p(x_1) + p(y_1) - P(x_1, y_1)$ - **Either or, see set theory**"
   ]
  },
  {
   "cell_type": "markdown",
   "metadata": {},
   "source": [
    "# Permutations and Combinations\n",
    "\n",
    "* **Permutations** - Order Matters, e.g. inputing a combination to unlock a safe.\n",
    "* **Combinations** - Order Does Not Matter, e.g. people making up a team, so fewer possibilites than with permutations.\n",
    "\n",
    "For example, using the numbers 1, 2, and 3, there are 6 permutations but only 1 combination.\n",
    "* 1, 2, 3\n",
    "* 1, 3, 2\n",
    "* 2, 1, 3\n",
    "* 2, 3, 1\n",
    "* 3, 1, 2\n",
    "* 3, 2, 1\n",
    "\n",
    "Number of permutations = $\\frac{n!}{(n-m)!}$, with **n = number of unique objects** and **m = number of unique orderings** (actions taken, eg. draw from bag)\n",
    "\n",
    "Number of combinations = $\\frac{n!}{(n-m)!m!}$, with **n = number of unique objects** and **m = number of unique orderings** (actions taken, eg. draw from bag). **This is also known as *n choose m* if done wihout replacement.**"
   ]
  },
  {
   "cell_type": "markdown",
   "metadata": {},
   "source": [
    "# Dependent and Independent\n",
    "\n",
    "With replacement - the probability does't change (**Independent**).\n",
    "\n",
    "Without replacement - removing things from the realm of possibility (**Dependent**).\n",
    "\n",
    "# N Choose M\n",
    "$\\frac{n!}{(n-m)!m!}$, drawing m items from n items without replacement."
   ]
  },
  {
   "cell_type": "markdown",
   "metadata": {},
   "source": [
    "# Sum Rule\n",
    "With $p(x_1, y_1)$, $p(x_2, y_1)$, $p(x_1, y_1)$, $p(x_1, y_2)$ etc. \n",
    "\n",
    "$p(x_1)$ is a *Marginal probability* - the probability of an event irrespective of the outcome of another variable.\n",
    "\n",
    "$p(x_1) = \\sum_{n} p(x_1, y_n)$\n",
    "\n",
    "\n",
    "Sum rule:\n",
    "* Binary - $P(A) = P(A,  B) + P(A, ~B)$\n",
    "* Series - $P(A) = P(A, B_1) + P(A, B_2) + ... P(A, B_n)$\n",
    "\n",
    "# Conditional Probability\n",
    "The porbability that a statement is true, given that some other statementt is true.\n",
    "\n",
    "$P(A | B)$ -> Probability of A given that B happens.\n",
    "\n",
    "eg. $P(dice\\; = 3 | dice\\; =\\; odd) = \\frac{1}{3}$\n",
    "\n",
    "# Product Rule\n",
    "$P(A|B) = \\frac{P(A,B)}{P(B)}$\n",
    "\n",
    "$P(B|A) = \\frac{P(B,A)}{P(A)}$\n",
    "\n",
    "$P(A,B) = P(A)P(B)$\n",
    "\n",
    "\n",
    "If independent -> $P(A|B) = P(A)$"
   ]
  },
  {
   "cell_type": "code",
   "execution_count": null,
   "metadata": {},
   "outputs": [],
   "source": []
  }
 ],
 "metadata": {
  "kernelspec": {
   "display_name": "Python 3.7.4 64-bit",
   "language": "python",
   "name": "python37464bitd12e4cb1b06a4ae49a3ff89c394ca0b4"
  },
  "language_info": {
   "codemirror_mode": {
    "name": "ipython",
    "version": 3
   },
   "file_extension": ".py",
   "mimetype": "text/x-python",
   "name": "python",
   "nbconvert_exporter": "python",
   "pygments_lexer": "ipython3",
   "version": "3.7.4"
  }
 },
 "nbformat": 4,
 "nbformat_minor": 4
}
