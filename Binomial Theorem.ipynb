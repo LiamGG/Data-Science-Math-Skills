{
 "cells": [
  {
   "cell_type": "markdown",
   "metadata": {},
   "source": [
    "Two possible outcomes - success, or non-success - for a number of trials."
   ]
  },
  {
   "cell_type": "markdown",
   "metadata": {},
   "source": [
    "n = number of independent trials (with replacement)\n",
    "\n",
    "s = number of successes\n",
    "\n",
    "p = probability of 1 success"
   ]
  },
  {
   "cell_type": "markdown",
   "metadata": {},
   "source": [
    "# Binomial Theorem\n",
    "### Probability of \"s\" successes in \"n\" trails, when the probability of 1 success is \"p\" is:\n",
    "\n",
    "$${n\\choose s}p^s(1-p)^{(n-s)}$$\n",
    "\n",
    "n - s = number of failures\n",
    "\n",
    "1 - p = probability of failure"
   ]
  },
  {
   "cell_type": "markdown",
   "metadata": {},
   "source": [
    "### Examples\n",
    "\n",
    "1. Exactly 72 heads, from 100 coin tosses, with a fair coing\n",
    "\n",
    "    n = 100\n",
    "\n",
    "    s = 72\n",
    "\n",
    "    p = 0.5\n",
    "\n",
    "$${100\\choose 72}0.5^{72}(1-0.5)^{(100-72)}$$\n",
    "\n",
    "$${100\\choose 72}0.5^{72}0.5^{28} = 3.94\\times 10^{-6}$$"
   ]
  },
  {
   "cell_type": "markdown",
   "metadata": {},
   "source": [
    "2. Either we have a fair coin, with p(head) = 0.5  or we have a bent coin, with p(head) = 0.55\n",
    "\n",
    "    $P(Fair | 72 head from 100) = \\frac{P(72 head from 100 | Fair)P(Fair)}{P(72 head from 100 | Fair)P(Fair) + P(72 head from 100 | Bent)P(Bent)}$\n",
    "    \n",
    "    **Set the priors**\n",
    "    \n",
    "    $P(Fair) = 0.5$ and $P(Fair) = 0.5$\n",
    "    \n",
    "    **Binomial theorem for $P(72 head from 100 | Fair)P(Fair) = 3.94\\times 10^{-6}$**\n",
    "    \n",
    "    **Binomial theorem for $P(72 head from 100 | Bent)P(Bent) = 0.0001972$**\n",
    "    \n",
    "    $\\frac{P(72 head from 100 | Fair)P(Fair)}{P(72 head from 100 | Fair)P(Fair) + P(72 head from 100 | Bent)P(Bent)} = \\frac{3.94\\times 10^{-6}}{(3.94\\times 10^{-6}) + (0.0001972)}$\n",
    "    \n",
    "    P(Fair) < 2%, P(Bent) > 98%"
   ]
  },
  {
   "cell_type": "code",
   "execution_count": null,
   "metadata": {},
   "outputs": [],
   "source": []
  }
 ],
 "metadata": {
  "kernelspec": {
   "display_name": "Python 3.7.4 64-bit",
   "language": "python",
   "name": "python37464bitd12e4cb1b06a4ae49a3ff89c394ca0b4"
  },
  "language_info": {
   "codemirror_mode": {
    "name": "ipython",
    "version": 3
   },
   "file_extension": ".py",
   "mimetype": "text/x-python",
   "name": "python",
   "nbconvert_exporter": "python",
   "pygments_lexer": "ipython3",
   "version": "3.7.4"
  }
 },
 "nbformat": 4,
 "nbformat_minor": 4
}
