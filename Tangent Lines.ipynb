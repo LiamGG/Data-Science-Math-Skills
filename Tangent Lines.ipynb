{
 "cells": [
  {
   "cell_type": "markdown",
   "metadata": {},
   "source": [
    "Derivative of the function at that point = tangent of the line\n",
    "\n",
    "$f'(a)$ -> Derivate of function $f$ at $x = a$ \n",
    "\n",
    "Using $h$ as a tiny increment along the line: $f'(a) = lim_{h -> 0} \\frac{f(a + h) - f(a)}{h}$"
   ]
  },
  {
   "cell_type": "markdown",
   "metadata": {},
   "source": [
    "# Example\n",
    "\n",
    "$f(x) = x^2$\n",
    "\n",
    "$f'(a) = lim_{h -> 0} \\frac{f(a + h) - f(a)}{h} = lim_{h -> 0} \\frac{(a + h)^2 - a^2}{h} = lim_{h -> 0} \\frac{a^2 + 2ah + h^2 - a^2}{h} = lim_{h -> 0} \\frac{h(2a + h)}{h} = lim_{h -> 0} (2a + h) = 2a$\n",
    "\n",
    "$f'(x) = 2x$"
   ]
  },
  {
   "cell_type": "code",
   "execution_count": null,
   "metadata": {},
   "outputs": [],
   "source": []
  }
 ],
 "metadata": {
  "kernelspec": {
   "display_name": "Python 3.7.4 64-bit",
   "language": "python",
   "name": "python37464bitd12e4cb1b06a4ae49a3ff89c394ca0b4"
  },
  "language_info": {
   "codemirror_mode": {
    "name": "ipython",
    "version": 3
   },
   "file_extension": ".py",
   "mimetype": "text/x-python",
   "name": "python",
   "nbconvert_exporter": "python",
   "pygments_lexer": "ipython3",
   "version": "3.7.4"
  }
 },
 "nbformat": 4,
 "nbformat_minor": 4
}
