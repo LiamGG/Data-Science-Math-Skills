{
 "cells": [
  {
   "cell_type": "markdown",
   "metadata": {},
   "source": [
    "### Derive\n",
    "$P(A|B) = \\frac{P(A,B)}{P(B)}$\n",
    "\n",
    "$P(A|B)P(B) = P(A,B)$ and $P(A,B)=P(B,A)$\n",
    "\n",
    "\n",
    "$P(A|B)P(B) = P(B,A)$\n",
    "\n",
    "$P(B|A) = \\frac{P(B,A)}{P(A)}$\n",
    "\n",
    "$P(B,A) = P(B|A)P(A)$\n"
   ]
  },
  {
   "cell_type": "markdown",
   "metadata": {},
   "source": [
    "$P(A|B)P(B) = P(B|A)P(A)$\n",
    "\n",
    "# Bayes' Rule\n",
    "$P(A|B) = \\frac{P(B|A)P(A)}{P(B)}$"
   ]
  },
  {
   "cell_type": "markdown",
   "metadata": {},
   "source": [
    "# Inverse Probability\n",
    "Probability that a certain process with a certain probability parameter is being used to generate the observed data.\n",
    "\n",
    "$\\theta$ represent the parameter that might be causing the data obvserved.\n",
    "\n",
    "$A_i$ represent the process generating the data\n",
    "\n",
    "### Example\n",
    "2 urns, one with 20% white marbles, oonoe with 10%. We observe 3 whiter marbles in a row, drawing with replacement. What is the probability we are observing Urn 1? Urn 2?\n",
    "\n",
    "Urn1 - $A_1$  p(white marble) = 20%\n",
    "\n",
    "Urn2 - $A_2$  p(white marble) = 10%\n",
    "\n",
    "$P(process\\; parameter | observed\\;data)$ =:\n",
    "* $A_1$ - $P(p(white)=0.2 | 3\\; white\\; marbles\\; in\\; a\\; row)$\n",
    "* $A_2$ - $P(p(white)=0.1 | 3\\; white\\; marbles\\; in\\; a\\; row)$\n",
    "\n",
    "= $\\frac{P(observed\\; data | process\\; parameter_i)P(process_i)}{p(observed\\; data)}$\n",
    "\n",
    "$p(observed\\; data) = p(observed\\; data | parameter_1)p(process\\; with\\; parameter_1) + p(observed\\; data | parameter_2)p(process\\; with\\; parameter_2)$\n",
    "\n",
    "### Likelikood - P(observed\\; data | process\\; parameter_i)\n",
    "* urn1: $p(3 white\\; marbles\\; in\\; a\\; row | 20\\%\\; white) = 0.2\\cdot 0.2\\cdot 0.2 = \\frac{8}{1000}$\n",
    "* urn2: $p(3 white\\; marbles\\; in\\; a\\; row | 10\\%\\; white) = 0.1\\cdot 0.1\\cdot 0.1 = \\frac{1}{1000}$\n",
    "\n",
    "### Prior probability.:\n",
    "Probability for either process / parameter before we have any data. Principle of indifference - no basis for choosing between the two urns. They have equal probability.\n",
    "\n",
    "$P(A_1) = 0.5$ and $P(A_2) = 0.5$\n",
    "\n",
    "### Solutions\n",
    "* $A_1$:\n",
    "    $\\frac{P(B|A_1)P(A_1)}{P(B)}$\n",
    "    \n",
    "    Sum rule -> $P(B) = P(B, A_1) + P(B, A_2)$\n",
    "    \n",
    "    Product Rule -> $P(B, A_1) + P(B, A_2) = P(B|A_1)P(A_1) + P(B|A_2)P(A_2)$\n",
    "    \n",
    "    Gives us -> $\\frac{P(B|A_1)P(A_1)}{P(B|A_1)P(A_1) + P(B|A_2)P(A_2)}  = \\frac{\\frac{8}{1000}\\cdot\\frac{1}{2}}{\\frac{8}{1000}\\cdot\\frac{1}{2} + \\frac{1}{1000}\\cdot\\frac{1}{2}} = \\frac{8}{9}$ - probabilitythat we observed urn1\n",
    "* $\\frac{1}{9}$ probability that we observed urn2\n",
    "    \n",
    "    "
   ]
  },
  {
   "cell_type": "markdown",
   "metadata": {},
   "source": [
    "### Updating your data - adding another marble\n",
    "4th marble is also white.\n",
    "\n",
    "Our priors are now:\n",
    "* $P(A_1) = \\frac{8}{9}$\n",
    "* $P(A_2) = \\frac{1}{9}$"
   ]
  },
  {
   "cell_type": "markdown",
   "metadata": {},
   "source": [
    "$P(A_1 | 3\\; whites\\; AND\\; a\\; 4^{th}) = \\frac{P(white\\; | urn1)P(prior\\; for\\; urn1)}{P(white\\; | urn1)P(prior\\; for\\; urn1) + P(white\\; | urn2)P(prior\\; for\\; urn2)}$"
   ]
  },
  {
   "cell_type": "markdown",
   "metadata": {},
   "source": [
    "$= \\frac{(0.2)(\\frac{8}{9})}{(0.2)(\\frac{8}{9}) + (0.1)(\\frac{1}{9})}$\n",
    "\n",
    "Our posteriors are now:\n",
    "* $P(A_1) = 94.12\\%$ (previously 88.9\\%)\n",
    "* $P(A_2) = 5.55\\%$ (previously 11.1\\%)"
   ]
  },
  {
   "cell_type": "code",
   "execution_count": null,
   "metadata": {},
   "outputs": [],
   "source": []
  }
 ],
 "metadata": {
  "kernelspec": {
   "display_name": "Python 3.7.4 64-bit",
   "language": "python",
   "name": "python37464bitd12e4cb1b06a4ae49a3ff89c394ca0b4"
  },
  "language_info": {
   "codemirror_mode": {
    "name": "ipython",
    "version": 3
   },
   "file_extension": ".py",
   "mimetype": "text/x-python",
   "name": "python",
   "nbconvert_exporter": "python",
   "pygments_lexer": "ipython3",
   "version": "3.7.4"
  }
 },
 "nbformat": 4,
 "nbformat_minor": 4
}
