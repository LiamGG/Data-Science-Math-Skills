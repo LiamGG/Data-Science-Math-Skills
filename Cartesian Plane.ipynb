{
 "cells": [
  {
   "cell_type": "markdown",
   "metadata": {},
   "source": [
    "Cartesian Plane - $\\mathbb{R^2}$\n",
    "\n",
    "A Cartesian coordinate system is a coordinate system that specifies each point uniquely in a plane by a set of numerical coordinates, which are the signed distances to the point from two fixed perpendicular oriented lines, measured in the same unit of length.\n",
    "\n",
    "Points on the plane given like:\n",
    "* A = (2, 3)\n",
    "* B = (-1, 5)\n",
    "* C = (4, -0.5)\n",
    "* D = (-5, -5)"
   ]
  },
  {
   "cell_type": "code",
   "execution_count": 2,
   "metadata": {},
   "outputs": [],
   "source": [
    "import matplotlib.pyplot as plt"
   ]
  },
  {
   "cell_type": "code",
   "execution_count": 15,
   "metadata": {},
   "outputs": [
    {
     "data": {
      "image/png": "[encoded data removed]",
      "text/plain": [
       "<Figure size 432x288 with 1 Axes>"
      ]
     },
     "metadata": {
      "needs_background": "light"
     },
     "output_type": "display_data"
    }
   ],
   "source": [
    "plt.scatter(x=2, y=3, label='A')\n",
    "plt.scatter(x=-1, y=5, label='B')\n",
    "plt.scatter(x=4, y=-0.5, label='C')\n",
    "plt.scatter(x=-5, y=-5, label='D')\n",
    "plt.axhline(y=0, color='k', lw=0.1)\n",
    "plt.axvline(x=0, color='k', lw=0.1)\n",
    "plt.legend()\n",
    "plt.show()"
   ]
  },
  {
   "cell_type": "markdown",
   "metadata": {},
   "source": [
    "### Important points\n",
    "\n",
    "$x\\; axis = \\{(x, y) \\in \\mathbb{R^2}: y=0\\}$\n",
    "\n",
    "$y\\; axis = \\{(x, y) \\in \\mathbb{R^2}: x=0\\}$\n",
    "\n",
    "**First Quadrant** = $\\{(x, y) \\in \\mathbb{R^2}: x > 0, y > 0\\}$\n",
    "\n",
    "\n",
    "**Second Quadrant** = $\\{(x, y) \\in \\mathbb{R^2}: x < 0, y > 0\\}$\n",
    "\n",
    "\n",
    "**Third Quadrant** = $\\{(x, y) \\in \\mathbb{R^2}: x < 0, y < 0\\}$\n",
    "\n",
    "\n",
    "**Fourth Quadrant** = $\\{(x, y) \\in \\mathbb{R^2}: x > 0, y < 0\\}$"
   ]
  },
  {
   "cell_type": "markdown",
   "metadata": {},
   "source": [
    "# Euclidean Distance Formula\n",
    "Square root of the sum of the squared distance in each axis.\n",
    "\n",
    "A = (1, 1), B = (5, 4)\n",
    "\n",
    "Dist(A, B) = $\\sqrt{(5-1)^2 + (4-1)^2} = \\sqrt{25} = 5$\n",
    "\n",
    "# Nearest Neighbor has the smalles Euclidean Distance\n",
    "\n",
    "\n",
    "# Point-Slope formula\n",
    "$y - y_0 = m(x - x_0)$ (any point can be used for the Point-Slope formula)\n",
    "\n",
    "$m = \\frac{\\Delta y}{\\Delta x} = \\frac{y_1 - y_0}{x_1 - x_0}$\n",
    "\n",
    "$line = \\{(x, y) \\in \\mathbb{R^2}: y - y_0 = m(x - x_0)\\}$\n",
    "\n",
    "# Slop-Inercept formula\n",
    "$y = mx + c$\n",
    "\n",
    "$line = \\{(x, y) \\in \\mathbb{R^2}: y = mx + c\\}$"
   ]
  },
  {
   "cell_type": "code",
   "execution_count": null,
   "metadata": {},
   "outputs": [],
   "source": []
  }
 ],
 "metadata": {
  "kernelspec": {
   "display_name": "Python 3.7.4 64-bit",
   "language": "python",
   "name": "python37464bitd12e4cb1b06a4ae49a3ff89c394ca0b4"
  },
  "language_info": {
   "codemirror_mode": {
    "name": "ipython",
    "version": 3
   },
   "file_extension": ".py",
   "mimetype": "text/x-python",
   "name": "python",
   "nbconvert_exporter": "python",
   "pygments_lexer": "ipython3",
   "version": "3.7.4"
  }
 },
 "nbformat": 4,
 "nbformat_minor": 4
}
