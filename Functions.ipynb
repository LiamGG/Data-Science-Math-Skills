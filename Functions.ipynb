{
 "cells": [
  {
   "cell_type": "markdown",
   "metadata": {},
   "source": [
    "A function $f:  A -> B$ is a rule / formula / algorithm which transforms each $a \\in A$ into $f(a) \\in B$\n",
    "\n",
    "\n",
    "### VBS\n",
    "$X = \\{All people in VBS study\\}$\n",
    "\n",
    "$Y = \\{Positive, Negative\\}$\n",
    "\n",
    "Test: X --> Y\n",
    "\n",
    "### Business\n",
    "$Y = \\{..., 2010, 2011, 2012, ...\\}$\n",
    "\n",
    "$Profit: Y -> \\mathbb{R}$\n",
    "\n",
    "$Profit(year) = Revenue that year - loss that year$\n",
    "\n",
    "$Profit(2010) = -5000$, $Profit(2011) = 1000$"
   ]
  },
  {
   "cell_type": "code",
   "execution_count": null,
   "metadata": {},
   "outputs": [],
   "source": []
  }
 ],
 "metadata": {
  "kernelspec": {
   "display_name": "Python 3.7.4 64-bit",
   "language": "python",
   "name": "python37464bitd12e4cb1b06a4ae49a3ff89c394ca0b4"
  },
  "language_info": {
   "codemirror_mode": {
    "name": "ipython",
    "version": 3
   },
   "file_extension": ".py",
   "mimetype": "text/x-python",
   "name": "python",
   "nbconvert_exporter": "python",
   "pygments_lexer": "ipython3",
   "version": "3.7.4"
  }
 },
 "nbformat": 4,
 "nbformat_minor": 4
}
