{
 "cells": [
  {
   "cell_type": "markdown",
   "metadata": {},
   "source": [
    "# The real number line - $\\mathbb{R}$\n",
    "Every number, includnig decimal points, from -$\\infty$ to $\\infty$. Includes 1, 2, 3, 234523, -7, 4.3, -1689.3456346 etc.\n",
    "\n",
    "Includes rational (can be represented as a simple fraction) and irrational (can't be represented as a simple fraction) numbers.\n",
    "\n",
    "Absolute value is the non-negative value of the number: $|-7.1| = |7.1| = 7.1$"
   ]
  },
  {
   "cell_type": "markdown",
   "metadata": {},
   "source": [
    "() - Not included, [] - included\n",
    "\n",
    "[7, 8] - All real numbers fron 7 to 8 including both of them. 7 <= x <= 8\n",
    "\n",
    "\n",
    "[7, 8) -  7 <= x < 8\n",
    "\n",
    "\n",
    "(7, 8] - All real numbers fron 7 to 8 including both of them. 7 < x <= 8\n",
    "\n",
    "\n",
    "(7, 8) - All real numbers fron 7 to 8 including both of them. 7 < x < 8"
   ]
  },
  {
   "cell_type": "code",
   "execution_count": null,
   "metadata": {},
   "outputs": [],
   "source": []
  }
 ],
 "metadata": {
  "kernelspec": {
   "display_name": "Python 3.7.4 64-bit",
   "language": "python",
   "name": "python37464bitd12e4cb1b06a4ae49a3ff89c394ca0b4"
  },
  "language_info": {
   "codemirror_mode": {
    "name": "ipython",
    "version": 3
   },
   "file_extension": ".py",
   "mimetype": "text/x-python",
   "name": "python",
   "nbconvert_exporter": "python",
   "pygments_lexer": "ipython3",
   "version": "3.7.4"
  }
 },
 "nbformat": 4,
 "nbformat_minor": 4
}
